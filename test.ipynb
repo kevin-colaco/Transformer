{
 "cells": [
  {
   "cell_type": "code",
   "execution_count": 1,
   "id": "101f7969",
   "metadata": {},
   "outputs": [
    {
     "name": "stdout",
     "output_type": "stream",
     "text": [
      "First Citizen:\n",
      "Before we proceed any further, hear me speak.\n",
      "\n",
      "All:\n",
      "Speak, speak.\n",
      "\n",
      "First Citizen:\n",
      "You are all resolved rather to die than to famish?\n",
      "\n",
      "All:\n",
      "Resolved. resolved.\n",
      "\n",
      "First Citizen:\n",
      "First, you know Caius Marcius is chief enemy to the people.\n",
      "\n",
      "All:\n",
      "We know't, we know't.\n",
      "\n",
      "First Citizen:\n",
      "Let us kill him, and we'll have corn at our own price.\n",
      "Is't a verdict?\n",
      "\n",
      "All:\n",
      "No more talking on't; let it be done: away, away!\n",
      "\n",
      "Second Citizen:\n",
      "One word, good citizens.\n",
      "\n",
      "First Citizen:\n",
      "We are accounted poor citizens, the patricians good.\n",
      "What authority surfeits on would relieve us: if they\n",
      "would yield us but the superfluity, while it were\n",
      "wholesome, we might guess they relieved us humanely;\n",
      "but they think we are too dear: the leanness that\n",
      "afflicts us, the object of our misery, is as an\n",
      "inventory to particularise their abundance; our\n",
      "sufferance is a gain to them Let us revenge this with\n",
      "our pikes, ere we become rakes: for the gods know I\n",
      "speak this in hunger for bread, not in thirst for revenge.\n",
      "\n",
      "\n"
     ]
    }
   ],
   "source": [
    "with open('input.txt') as f:\n",
    "    text = f.read()\n",
    "data = text[:1000]\n",
    "print(data)"
   ]
  },
  {
   "cell_type": "code",
   "execution_count": 3,
   "id": "82b82ff6",
   "metadata": {},
   "outputs": [
    {
     "name": "stdout",
     "output_type": "stream",
     "text": [
      "[5962, 22307]\n"
     ]
    }
   ],
   "source": [
    "import tiktoken\n",
    "enc = tiktoken.get_encoding('gpt2')\n",
    "tokens = enc.encode(data)\n",
    "print(tokens[:2])"
   ]
  },
  {
   "cell_type": "code",
   "execution_count": 4,
   "id": "c54d2159",
   "metadata": {},
   "outputs": [
    {
     "name": "stdout",
     "output_type": "stream",
     "text": [
      "tensor([[ 5962, 22307,    25,   198,  8421,   356],\n",
      "        [ 5120,   597,  2252,    11,  3285,   502],\n",
      "        [ 2740,    13,   198,   198,  3237,    25],\n",
      "        [  198,  5248,   461,    11,  2740,    13]])\n"
     ]
    }
   ],
   "source": [
    "import torch\n",
    "buf = torch.tensor(tokens[:24])\n",
    "x = buf.view(4, 6)\n",
    "print(x)"
   ]
  },
  {
   "cell_type": "code",
   "execution_count": 16,
   "id": "14a12b71",
   "metadata": {},
   "outputs": [
    {
     "data": {
      "text/plain": [
       "tensor(0.9459)"
      ]
     },
     "execution_count": 16,
     "metadata": {},
     "output_type": "execute_result"
    }
   ],
   "source": [
    "x = torch.zeros(768)\n",
    "n = 100\n",
    "for i in range(n):\n",
    "    x += n**-0.5 * torch.randn(768)\n",
    "\n",
    "x.std()"
   ]
  },
  {
   "cell_type": "code",
   "execution_count": 21,
   "id": "e1203fdb",
   "metadata": {},
   "outputs": [
    {
     "data": {
      "text/plain": [
       "0.7071067811865475"
      ]
     },
     "execution_count": 21,
     "metadata": {},
     "output_type": "execute_result"
    }
   ],
   "source": [
    "import math \n",
    "2**-0.5 # Both these give same resut\n",
    "1 / math.sqrt(2) # Both these give same resut"
   ]
  },
  {
   "cell_type": "code",
   "execution_count": 1,
   "id": "e9695cca",
   "metadata": {},
   "outputs": [
    {
     "data": {
      "text/plain": [
       "<All keys matched successfully>"
      ]
     },
     "execution_count": 1,
     "metadata": {},
     "output_type": "execute_result"
    }
   ],
   "source": [
    "import tiktoken\n",
    "import torch\n",
    "from torch.nn import functional as F\n",
    "\n",
    "from model import GPT, GPTConfig\n",
    "\n",
    "device = 'cuda'    \n",
    "torch.set_float32_matmul_precision('high')\n",
    "model = GPT(GPTConfig(vocab_size=50304))\n",
    "model.to(device)\n",
    "model = torch.compile(model)\n",
    "\n",
    "resume_from = \"checkpoints/ckpt_step13000_20250511_220549.pt\"\n",
    "checkpoint = torch.load(resume_from, weights_only=False)\n",
    "model.load_state_dict(checkpoint['model_state'])    "
   ]
  },
  {
   "cell_type": "code",
   "execution_count": 5,
   "id": "ff789d2f",
   "metadata": {},
   "outputs": [],
   "source": [
    "model.eval()\n",
    "num_return_sequences = 1\n",
    "max_length = 1000\n",
    "enc = tiktoken.get_encoding('gpt2')\n",
    "tokens = enc.encode(\"Before we\")\n",
    "tokens = torch.tensor(tokens, dtype=torch.long)\n",
    "tokens = tokens.unsqueeze(0).repeat(num_return_sequences, 1)\n",
    "x = tokens.to('cuda')"
   ]
  },
  {
   "cell_type": "code",
   "execution_count": 6,
   "id": "ecf4ae6b",
   "metadata": {},
   "outputs": [],
   "source": [
    "while x.size(1) < max_length:\n",
    "    with torch.no_grad():            \n",
    "        logits = model(x)[0]\n",
    "        logits = logits[:, -1, :]\n",
    "        probs = F.softmax(logits, dim=-1)\n",
    "        topk_probs, topk_indices = torch.topk(probs, 50, dim=-1)\n",
    "        ix = torch.multinomial(topk_probs, 1)\n",
    "        xcol = torch.gather(topk_indices, -1, ix)\n",
    "        x = torch.cat((x, xcol), dim=-1)"
   ]
  },
  {
   "cell_type": "code",
   "execution_count": 7,
   "id": "1c6f0139",
   "metadata": {},
   "outputs": [
    {
     "name": "stdout",
     "output_type": "stream",
     "text": [
      ">  Before we mercy unfit, we\n",
      "More,\n",
      "\n",
      "I we came,\n",
      "PARULESTER:\n",
      "I'll be you may not married,\n",
      "\n",
      "By you word, for what,\n",
      "That.\n",
      "Mrift have you shall be me to be over.\n",
      "\n",
      "ESTER,\n",
      "\n",
      "\n",
      "Cons half victory and in his northern prince or spider\n",
      "Will she never plant to God of York;\n",
      "PRARMADAR ELARWARD:\n",
      "Thet the wolf and say\n",
      "Be all at my heavens,\n",
      "My business,\n",
      "I were I'll did got it,\n",
      "That is the father,\n",
      "\n",
      "\n",
      "I,\n",
      "I\n",
      "But\n",
      "\n",
      "The lord,\n",
      "And I have for all\n",
      "\n",
      "\n",
      "\n",
      "For at that I have we\n",
      "For never say;\n",
      "\n",
      "That is all thee you is.\n",
      "\n",
      "For think to the brother,\n",
      "For hold you is this, being you with,\n",
      "\n",
      "For you marry on his our part,\n",
      "\n",
      "Tostst,\n",
      "With you have be as, this, I thou do part\n",
      "\n",
      "For for all you know I shalt is the othert\n",
      "For have,\n",
      "\n",
      "\n",
      "\n",
      "\n",
      "And:\n",
      "If\n",
      "To put,\n",
      "Yet,\n",
      "\n",
      "\n",
      "Momeon for, all his fortunes upon this oath,\n",
      "\n",
      "\n",
      "I have on your queen.\n",
      "\n",
      "\n",
      "\n",
      "\n",
      "\n",
      "\n",
      "\n",
      "\n",
      "\n",
      "\n",
      "I should content with such oath,\n",
      "\n",
      "\n",
      "MON KING HEN:\n",
      "We love than the soul and princeost,\n",
      "KINGET:\n",
      "What should, our ado,\n",
      "CL KINGRYague,\n",
      "To now battle scere it to the lord,\n",
      "\n",
      "What will;\n",
      "\n",
      "Yet plind,\n",
      "Be stay of such more;\n",
      "For I encounter,\n",
      "If\n",
      "For my day:\n",
      "\n",
      "And my prince,\n",
      "Ay, I are shut to I turn's second mind this mile to thee and thee,\n",
      "To,\n",
      "\n",
      "Foth hear a hands!\n",
      "To that I affectours in this sir comes the body;\n",
      "\n",
      "That ends;\n",
      "\n",
      "And by him when\n",
      "\n",
      "And with yourT:\n",
      "And,\n",
      "And we wishares,\n",
      "\n",
      "Ay oas of me,\n",
      "And.\n",
      "And,\n",
      "\n",
      "That now on my seat are happy night to taken for my more him:\n",
      "\n",
      "And;\n",
      "\n",
      "Is indeed,\n",
      "His lieeming is not I well for my table, and I have plEN Hally,\n",
      "My lord,\n",
      "And you is to while;\n",
      "And not,\n",
      "\n",
      "\n",
      "Seents is truth,\n",
      "My Romeo,\n",
      "WhENRYULESTER:\n",
      "\n",
      "\n",
      "Why,\n",
      "RICHESch my very ear,\n",
      "What,\n",
      "\n",
      "And put his stay at him;\n",
      "What know, my wave?\n",
      "\n",
      "He, and burnt for my which is slom with me;\n",
      "\n",
      "My offences,\n",
      "And will\n",
      "He came in his lord, and she was sl many is that young wheel,\n",
      "\n",
      "The Clarence,\n",
      "He'll,\n",
      "What you must woth gone, and Edward oman:\n",
      "And:\n",
      "\n",
      "My kind him,\n",
      "To.\n",
      "He, go and Edward;\n",
      "\n",
      "\n",
      "And in myWarwick,\n",
      "And that shall I have will to call and executed on him is conclude no;\n",
      "\n",
      "And to Edward than much,\n",
      "These father,\n",
      "He are use me off that; and Richard;\n",
      "But\n",
      "The lord,\n",
      "He was him,\n",
      "From a loves to weigh off in my ghostPom,\n",
      "My daughter;\n",
      "JELCY:\n",
      "\n",
      "\n",
      "\n",
      "Of,\n",
      "By with forth;\n",
      "NULO,\n",
      "\n",
      "WhereET:\n",
      "Yet may,\n",
      "\n",
      "'s princess.\n",
      "From my arm\n",
      "LUCES:\n",
      "Of such like shall be, and,\n",
      "Is the field about love upon him and you must,\n",
      "\n",
      "My marriage;\n",
      "It say,\n",
      "My days:\n",
      "\n",
      "\n",
      "CAP MAR EDET:\n",
      "\n",
      "My, and-on, we shall thirty,\n",
      "And no lord,\n",
      "He shall was known to:\n",
      "Of ourMy veins stands,\n",
      "My sovereign hath the counteth my loss,\n",
      "\n",
      "\n",
      "\n",
      "\n",
      "To in him;\n",
      "Of my into the trick,\n",
      "What have London;\n",
      "\n",
      "Of gentleman,\n",
      "My pretty body:\n",
      "He truly:\n",
      "For we like him;\n",
      "Who,\n",
      "But\n",
      "\n",
      "Where to be, and plas,\n",
      "My duty he should,\n",
      "I'll\n",
      "But leave,\n",
      "What all!\n",
      "Where'll then have-om co into you of guower?\n",
      "Of I will then about my joy is gone,\n",
      "My lord, O,\n",
      "What?\n",
      "To that now is yet I am or too noble worthless the greater joy in our worthy crown in him,\n",
      "Stay, follow.\n",
      "But\n",
      "My crown in whose great\n"
     ]
    }
   ],
   "source": [
    "for i in range(num_return_sequences):\n",
    "    tokens = x[i, :max_length].tolist()\n",
    "    decoded = enc.decode(tokens)\n",
    "    print(\"> \", decoded)\n"
   ]
  }
 ],
 "metadata": {
  "kernelspec": {
   "display_name": ".venv",
   "language": "python",
   "name": "python3"
  },
  "language_info": {
   "codemirror_mode": {
    "name": "ipython",
    "version": 3
   },
   "file_extension": ".py",
   "mimetype": "text/x-python",
   "name": "python",
   "nbconvert_exporter": "python",
   "pygments_lexer": "ipython3",
   "version": "3.9.9"
  }
 },
 "nbformat": 4,
 "nbformat_minor": 5
}
